{
 "cells": [
  {
   "cell_type": "code",
   "execution_count": 2,
   "metadata": {},
   "outputs": [],
   "source": [
    "import pandas as pd"
   ]
  },
  {
   "cell_type": "markdown",
   "metadata": {},
   "source": [
    "Notebook used to create dataset from initial xlsx file as well as explore the dataset through pandas. \n",
    "Dataset consists of 404301 question pairs with, each labelled as either 0 or 1 depending on if the two questions are considered\n",
    "semantically equivalent, i.e. they ask the same thing. \t\t\t\t\t\t\t\n"
   ]
  },
  {
   "cell_type": "code",
   "execution_count": 5,
   "metadata": {},
   "outputs": [],
   "source": [
    "data = pd.read_excel('data/question_pairs.xlsx') # read the data"
   ]
  },
  {
   "cell_type": "code",
   "execution_count": 8,
   "metadata": {},
   "outputs": [
    {
     "data": {
      "text/html": [
       "<div>\n",
       "<style scoped>\n",
       "    .dataframe tbody tr th:only-of-type {\n",
       "        vertical-align: middle;\n",
       "    }\n",
       "\n",
       "    .dataframe tbody tr th {\n",
       "        vertical-align: top;\n",
       "    }\n",
       "\n",
       "    .dataframe thead th {\n",
       "        text-align: right;\n",
       "    }\n",
       "</style>\n",
       "<table border=\"1\" class=\"dataframe\">\n",
       "  <thead>\n",
       "    <tr style=\"text-align: right;\">\n",
       "      <th></th>\n",
       "      <th>id,\"qid1\",\"qid2\",\"question1\",\"question2\",\"is_duplicate\"</th>\n",
       "    </tr>\n",
       "  </thead>\n",
       "  <tbody>\n",
       "    <tr>\n",
       "      <th>0</th>\n",
       "      <td>0,\"1\",\"2\",\"What is the step by step guide to i...</td>\n",
       "    </tr>\n",
       "    <tr>\n",
       "      <th>1</th>\n",
       "      <td>1,\"3\",\"4\",\"What is the story of Kohinoor (Koh-...</td>\n",
       "    </tr>\n",
       "    <tr>\n",
       "      <th>2</th>\n",
       "      <td>2,\"5\",\"6\",\"How can I increase the speed of my ...</td>\n",
       "    </tr>\n",
       "    <tr>\n",
       "      <th>3</th>\n",
       "      <td>3,\"7\",\"8\",\"Why am I mentally very lonely? How ...</td>\n",
       "    </tr>\n",
       "    <tr>\n",
       "      <th>4</th>\n",
       "      <td>4,\"9\",\"10\",\"Which one dissolve in water quikly...</td>\n",
       "    </tr>\n",
       "    <tr>\n",
       "      <th>...</th>\n",
       "      <td>...</td>\n",
       "    </tr>\n",
       "    <tr>\n",
       "      <th>404296</th>\n",
       "      <td>404285,\"433578\",\"379845\",\"How many keywords ar...</td>\n",
       "    </tr>\n",
       "    <tr>\n",
       "      <th>404297</th>\n",
       "      <td>404286,\"18840\",\"155606\",\"Do you believe there ...</td>\n",
       "    </tr>\n",
       "    <tr>\n",
       "      <th>404298</th>\n",
       "      <td>404287,\"537928\",\"537929\",\"What is one coin?\",\"...</td>\n",
       "    </tr>\n",
       "    <tr>\n",
       "      <th>404299</th>\n",
       "      <td>404288,\"537930\",\"537931\",\"What is the approx a...</td>\n",
       "    </tr>\n",
       "    <tr>\n",
       "      <th>404300</th>\n",
       "      <td>404289,\"537932\",\"537933\",\"What is like to have...</td>\n",
       "    </tr>\n",
       "  </tbody>\n",
       "</table>\n",
       "<p>404301 rows × 1 columns</p>\n",
       "</div>"
      ],
      "text/plain": [
       "       id,\"qid1\",\"qid2\",\"question1\",\"question2\",\"is_duplicate\"\n",
       "0       0,\"1\",\"2\",\"What is the step by step guide to i...     \n",
       "1       1,\"3\",\"4\",\"What is the story of Kohinoor (Koh-...     \n",
       "2       2,\"5\",\"6\",\"How can I increase the speed of my ...     \n",
       "3       3,\"7\",\"8\",\"Why am I mentally very lonely? How ...     \n",
       "4       4,\"9\",\"10\",\"Which one dissolve in water quikly...     \n",
       "...                                                   ...     \n",
       "404296  404285,\"433578\",\"379845\",\"How many keywords ar...     \n",
       "404297  404286,\"18840\",\"155606\",\"Do you believe there ...     \n",
       "404298  404287,\"537928\",\"537929\",\"What is one coin?\",\"...     \n",
       "404299  404288,\"537930\",\"537931\",\"What is the approx a...     \n",
       "404300  404289,\"537932\",\"537933\",\"What is like to have...     \n",
       "\n",
       "[404301 rows x 1 columns]"
      ]
     },
     "execution_count": 8,
     "metadata": {},
     "output_type": "execute_result"
    }
   ],
   "source": [
    "data = data.drop(columns=[x for x in data.columns if 'Unnamed' in x]) # drop the unnamed columns\n",
    "data"
   ]
  }
 ],
 "metadata": {
  "interpreter": {
   "hash": "d4e3ca4ca4f46e2f3843d95aea4f95ff706db0453df7689abd072165fceab22d"
  },
  "kernelspec": {
   "display_name": "Python 3.7.9 64-bit",
   "language": "python",
   "name": "python3"
  },
  "language_info": {
   "codemirror_mode": {
    "name": "ipython",
    "version": 3
   },
   "file_extension": ".py",
   "mimetype": "text/x-python",
   "name": "python",
   "nbconvert_exporter": "python",
   "pygments_lexer": "ipython3",
   "version": "3.7.9"
  },
  "orig_nbformat": 4
 },
 "nbformat": 4,
 "nbformat_minor": 2
}
